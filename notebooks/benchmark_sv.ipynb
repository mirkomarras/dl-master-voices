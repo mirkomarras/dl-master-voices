{
 "cells": [
  {
   "cell_type": "code",
   "execution_count": 1,
   "metadata": {},
   "outputs": [],
   "source": [
    "def save_obj(obj, name):\n",
    "    print('Saving object', name)\n",
    "    with open(name + '.pkl', 'wb') as f:\n",
    "        pickle.dump(obj, f, pickle.HIGHEST_PROTOCOL)\n",
    "\n",
    "def load_obj(name):\n",
    "    print('Loading object', name)\n",
    "    with open(name + '.pkl', 'rb') as f:\n",
    "        return pickle.load(f)"
   ]
  },
  {
   "cell_type": "code",
   "execution_count": 4,
   "metadata": {},
   "outputs": [],
   "source": [
    "def findThresholdAtFAR(far, value):\n",
    "    return np.argmin(np.abs(value - far))"
   ]
  },
  {
   "cell_type": "code",
   "execution_count": 5,
   "metadata": {},
   "outputs": [],
   "source": [
    "def getStats(identical, scores):\n",
    "    far, tpr, thresholds = roc_curve(np.array(identical), np.array(scores))\n",
    "    frr = 1 - tpr\n",
    "    idx_eer = np.argmin(np.abs(far - frr))\n",
    "    idx_far1 = findThresholdAtFAR(far, 0.01)\n",
    "    return {'eer': {'thr': thresholds[idx_eer], 'far': far[idx_eer], 'frr': frr[idx_eer]}, \n",
    "            'far1': {'thr': thresholds[idx_far1], 'far': far[idx_far1], 'frr': frr[idx_far1]}}"
   ]
  },
  {
   "cell_type": "code",
   "execution_count": 6,
   "metadata": {},
   "outputs": [],
   "source": [
    "def getStatsThr(identical, scores,thr):\n",
    "    far, tpr, thresholds = roc_curve(np.array(identical), np.array(scores))\n",
    "    frr = 1 - tpr\n",
    "    idx_thr = findThresholdAtFAR(thresholds, thr)\n",
    "    return {thr: {'thr': thresholds[idx_thr], 'far': far[idx_thr], 'frr': frr[idx_thr]}}"
   ]
  },
  {
   "cell_type": "code",
   "execution_count": 10,
   "metadata": {},
   "outputs": [],
   "source": [
    "model = load_model('/beegfs/mm10572/master-voices/dl_master_voices/models/vggvox/ks_model/vggvox.h5')"
   ]
  },
  {
   "cell_type": "code",
   "execution_count": 9,
   "metadata": {},
   "outputs": [],
   "source": [
    "flatten_layer = Flatten()(model.output)\n",
    "contr_model = Model(model.inputs, flatten_layer)"
   ]
  },
  {
   "cell_type": "code",
   "execution_count": 11,
   "metadata": {},
   "outputs": [
    {
     "name": "stdout",
     "output_type": "stream",
     "text": [
      "Loading object /beegfs/mm10572/master-voices/dl_master_voices/data/vox2_mv/train_vox2_abspaths_1000_users\n",
      "Found mv train users 1000\n"
     ]
    }
   ],
   "source": [
    "train_paths = load_obj('/beegfs/mm10572/master-voices/dl_master_voices/data/vox2_mv/train_vox2_abspaths_1000_users')\n",
    "train_users = np.unique([p.split('/')[5] for p in train_paths])\n",
    "print('Found mv train users', len(train_users))"
   ]
  },
  {
   "cell_type": "code",
   "execution_count": 12,
   "metadata": {},
   "outputs": [],
   "source": [
    "samples = {}\n",
    "for path in train_paths:\n",
    "    user = path.split('/')[5]\n",
    "    if not user in samples:\n",
    "        samples[user] = []\n",
    "    samples[user].append(path)"
   ]
  },
  {
   "cell_type": "code",
   "execution_count": 24,
   "metadata": {},
   "outputs": [
    {
     "name": "stdout",
     "output_type": "stream",
     "text": [
      "10 of 10 ( 1 mean ): {'far1': {'far': 0.0, 'thr': 1.8923906087875366, 'frr': 1.0}, 'eer': {'far': 0.0, 'thr': 0.6226051449775696, 'frr': 0.0}}\n",
      "10 of 10 ( 10 amax ): {'far1': {'far': 0.0, 'thr': 1.946548044681549, 'frr': 1.0}, 'eer': {'far': 0.0, 'thr': 0.7413321137428284, 'frr': 0.0}}\n",
      "10 of 10 ( 10 mean ): {'far1': {'far': 0.0, 'thr': 1.8351682424545288, 'frr': 1.0}, 'eer': {'far': 0.2, 'thr': 0.5025533527135849, 'frr': 0.19999999999999996}}\n"
     ]
    }
   ],
   "source": [
    "setups = [(1, np.mean), (10, np.max), (10, np.mean)]\n",
    "statistics = []\n",
    "n_comp = 10\n",
    "\n",
    "for n_trials, scores_func in setups:\n",
    "    identical = []\n",
    "    scores = []\n",
    "    for index in range(n_comp):\n",
    "        user_1 = np.random.choice(list(samples.keys()))\n",
    "        user_2 = np.random.choice(list(set(list(samples.keys())) - set([user_1])))\n",
    "        path_1_1 = np.random.choice(samples[user_1])\n",
    "        sp_1_1 = get_fft_spectrum(path_1_1)\n",
    "        emb_1_1 = contr_model.predict(sp_1_1.reshape(1, *sp_1_1.shape, 1))[0]\n",
    "        paths_1_2 = np.random.choice(list(set(samples[user_1]) - set([path_1_1])), n_trials)\n",
    "        partial_scores_1_2 = []\n",
    "        for path in paths_1_2:\n",
    "            sp = get_fft_spectrum(path)\n",
    "            emb = contr_model.predict(sp.reshape(1, *sp.shape, 1))[0]\n",
    "            partial_scores_1_2.append(1 - spatial.distance.cosine(emb_1_1, emb))\n",
    "        paths_2 = np.random.choice(samples[user_2], n_trials)\n",
    "        partial_scores_2 = []\n",
    "        for path in paths_2:\n",
    "            sp = get_fft_spectrum(path)\n",
    "            emb = contr_model.predict(sp.reshape(1, *sp.shape, 1))[0]\n",
    "            partial_scores_2.append(1 - spatial.distance.cosine(emb_1_1, emb))\n",
    "        identical.append(1)\n",
    "        scores.append(scores_func(partial_scores_1_2))\n",
    "        identical.append(0)\n",
    "        scores.append(scores_func(partial_scores_2))\n",
    "        print('\\r' + str(index+1) + ' of ' + str(n_comp), '(', n_trials, str(scores_func).split(' ')[1], '):', getStats(identical, scores), end='')\n",
    "    statistics.append(getStats(identical, scores))\n",
    "    print()"
   ]
  },
  {
   "cell_type": "code",
   "execution_count": 25,
   "metadata": {},
   "outputs": [
    {
     "data": {
      "text/plain": [
       "3"
      ]
     },
     "execution_count": 25,
     "metadata": {},
     "output_type": "execute_result"
    }
   ],
   "source": [
    "len(statistics)"
   ]
  },
  {
   "cell_type": "code",
   "execution_count": 27,
   "metadata": {},
   "outputs": [
    {
     "name": "stdout",
     "output_type": "stream",
     "text": [
      "10 of 10 ( 1 mean eer 0.7413321137428284 10 amax ): {0.7413321137428284: {'far': 0.0, 'thr': 0.9222062230110168, 'frr': 0.9}}\n",
      "10 of 10 ( 1 mean far1 1.946548044681549 10 amax ): {1.946548044681549: {'far': 0.0, 'thr': 1.9046813249588013, 'frr': 1.0}}\n",
      "10 of 10 ( 1 mean eer 0.5025533527135849 10 mean ): {0.5025533527135849: {'far': 0.1, 'thr': 0.5123698711395264, 'frr': 0.0}}\n",
      "10 of 10 ( 1 mean far1 1.8351682424545288 10 mean ): {1.8351682424545288: {'far': 0.0, 'thr': 1.845118761062622, 'frr': 1.0}}\n",
      "10 of 10 ( 10 amax eer 0.6226051449775696 1 mean ): {0.6226051449775696: {'far': 0.0, 'thr': 0.8278138637542725, 'frr': 0.0}}\n",
      "10 of 10 ( 10 amax far1 1.8923906087875366 1 mean ): {1.8923906087875366: {'far': 0.0, 'thr': 1.9309051632881165, 'frr': 1.0}}\n",
      "10 of 10 ( 10 amax eer 0.5025533527135849 10 mean ): {0.5025533527135849: {'far': 0.3, 'thr': 0.6345411539077759, 'frr': 0.0}}\n",
      "10 of 10 ( 10 amax far1 1.8351682424545288 10 mean ): {1.8351682424545288: {'far': 0.0, 'thr': 1.9697477221488953, 'frr': 1.0}}\n",
      "10 of 10 ( 10 mean eer 0.6226051449775696 1 mean ): {0.6226051449775696: {'far': 0.0, 'thr': 0.8387844145298005, 'frr': 0.9}}\n",
      "10 of 10 ( 10 mean far1 1.8923906087875366 1 mean ): {1.8923906087875366: {'far': 0.0, 'thr': 1.8108538746833802, 'frr': 1.0}}\n",
      "10 of 10 ( 10 mean eer 0.7413321137428284 10 amax ): {0.7413321137428284: {'far': 0.0, 'thr': 0.673917818069458, 'frr': 0.09999999999999998}}\n",
      "10 of 10 ( 10 mean far1 1.946548044681549 10 amax ): {1.946548044681549: {'far': 0.0, 'thr': 1.8172646760940552, 'frr': 1.0}}\n"
     ]
    }
   ],
   "source": [
    "for i, setup_1 in enumerate(setups):\n",
    "    for j, setup_2 in enumerate(setups):\n",
    "        if i != j:\n",
    "            for thr_type in ['eer', 'far1']:\n",
    "                n_trials, scores_func = setup_1\n",
    "                n_trials_cmp, scores_func_cmp = setup_2\n",
    "                identical = []\n",
    "                scores = []\n",
    "                for index in range(n_comp):\n",
    "                    user_1 = np.random.choice(list(samples.keys()))\n",
    "                    user_2 = np.random.choice(list(set(list(samples.keys())) - set([user_1])))\n",
    "                    path_1_1 = np.random.choice(samples[user_1])\n",
    "                    sp_1_1 = get_fft_spectrum(path_1_1)\n",
    "                    emb_1_1 = contr_model.predict(sp_1_1.reshape(1, *sp_1_1.shape, 1))[0]\n",
    "                    paths_1_2 = np.random.choice(list(set(samples[user_1]) - set([path_1_1])), n_trials)\n",
    "                    partial_scores_1_2 = []\n",
    "                    for path in paths_1_2:\n",
    "                        sp = get_fft_spectrum(path)\n",
    "                        emb = contr_model.predict(sp.reshape(1, *sp.shape, 1))[0]\n",
    "                        partial_scores_1_2.append(1 - spatial.distance.cosine(emb_1_1, emb))\n",
    "                    paths_2 = np.random.choice(samples[user_2], n_trials)\n",
    "                    partial_scores_2 = []\n",
    "                    for path in paths_2:\n",
    "                        sp = get_fft_spectrum(path)\n",
    "                        emb = contr_model.predict(sp.reshape(1, *sp.shape, 1))[0]\n",
    "                        partial_scores_2.append(1 - spatial.distance.cosine(emb_1_1, emb))\n",
    "                    identical.append(1)\n",
    "                    scores.append(scores_func(partial_scores_1_2))\n",
    "                    identical.append(0)\n",
    "                    scores.append(scores_func(partial_scores_2))\n",
    "                    print('\\r' + str(index+1) + ' of ' + str(n_comp), '(', n_trials, str(scores_func).split(' ')[1], thr_type, statistics[j][thr_type]['thr'], n_trials_cmp, str(scores_func_cmp).split(' ')[1], '):', getStatsThr(identical, scores, statistics[j][thr_type]['thr']), end='')\n",
    "                print()"
   ]
  },
  {
   "cell_type": "code",
   "execution_count": null,
   "metadata": {},
   "outputs": [],
   "source": [
    ""
   ]
  }
 ],
 "metadata": {
  "kernelspec": {
   "display_name": "Python 3",
   "language": "python",
   "name": "python3"
  },
  "language_info": {
   "codemirror_mode": {
    "name": "ipython",
    "version": 3.0
   },
   "file_extension": ".py",
   "mimetype": "text/x-python",
   "name": "python",
   "nbconvert_exporter": "python",
   "pygments_lexer": "ipython3",
   "version": "3.5.3"
  }
 },
 "nbformat": 4,
 "nbformat_minor": 0
}