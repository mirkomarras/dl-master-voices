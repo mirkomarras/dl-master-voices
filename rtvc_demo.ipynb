{
 "cells": [
  {
   "cell_type": "code",
   "execution_count": 1,
   "id": "36bc9f32",
   "metadata": {},
   "outputs": [],
   "source": [
    "%load_ext autoreload\n",
    "%autoreload 2"
   ]
  },
  {
   "cell_type": "code",
   "execution_count": 2,
   "id": "5b4fd94b",
   "metadata": {},
   "outputs": [],
   "source": [
    "import tensorflow as tf\n",
    "physical_devices = tf.config.list_physical_devices(\"GPU\")\n",
    "tf.config.experimental.set_memory_growth(physical_devices[0], True)\n"
   ]
  },
  {
   "cell_type": "code",
   "execution_count": 3,
   "id": "28e7698f",
   "metadata": {},
   "outputs": [],
   "source": [
    "import sys\n",
    "import librosa\n",
    "import sounddevice\n",
    "sys.path.append('rtvc')"
   ]
  },
  {
   "cell_type": "code",
   "execution_count": 38,
   "id": "b1d4e94c",
   "metadata": {},
   "outputs": [
    {
     "name": "stdout",
     "output_type": "stream",
     "text": [
      "Loaded encoder \"pretrained.pt\" trained to step 1564501\n",
      "Trainable Parameters: 4.481M\n"
     ]
    }
   ],
   "source": [
    "from rtvc import rtvc_api\n",
    "\n",
    "rtvc_api.load_models('rtvc')"
   ]
  },
  {
   "cell_type": "markdown",
   "id": "a6f63cae",
   "metadata": {},
   "source": [
    "## RTVC Demo"
   ]
  },
  {
   "cell_type": "code",
   "execution_count": 35,
   "id": "421ae037",
   "metadata": {},
   "outputs": [],
   "source": [
    "target_speaker = 'data/librispeech/1040/133433/1040-133433-0002.flac'\n",
    "target_speaker = 'data/vctk/p234/p234_003.wav'\n",
    "source, sf = librosa.load(target_speaker, sr=16000)\n",
    "sounddevice.play(source, 16000)"
   ]
  },
  {
   "cell_type": "code",
   "execution_count": 36,
   "id": "c1c33e51",
   "metadata": {},
   "outputs": [],
   "source": [
    "embed = rtvc_api.get_embedding(target_speaker)"
   ]
  },
  {
   "cell_type": "code",
   "execution_count": 45,
   "id": "8728c5bd",
   "metadata": {},
   "outputs": [
    {
     "data": {
      "text/plain": [
       "(array([167.,  21.,  22.,  21.,   6.,   7.,   4.,   4.,   2.,   2.]),\n",
       " array([0.        , 0.02562771, 0.05125542, 0.07688312, 0.10251083,\n",
       "        0.12813854, 0.15376624, 0.17939396, 0.20502166, 0.23064938,\n",
       "        0.25627708], dtype=float32),\n",
       " <BarContainer object of 10 artists>)"
      ]
     },
     "execution_count": 45,
     "metadata": {},
     "output_type": "execute_result"
    },
    {
     "data": {
      "image/png": "[encoded data removed]",
      "text/plain": [
       "<Figure size 432x288 with 1 Axes>"
      ]
     },
     "metadata": {
      "needs_background": "light"
     },
     "output_type": "display_data"
    }
   ],
   "source": [
    "import matplotlib.pyplot as plt\n",
    "plt.hist(embed)"
   ]
  },
  {
   "cell_type": "code",
   "execution_count": 43,
   "id": "3d69683b",
   "metadata": {},
   "outputs": [
    {
     "name": "stdout",
     "output_type": "stream",
     "text": [
      "{| ████████████████ 437000/441600 | Batch Size: 46 | Gen Rate: 71.7kHz | }Waveform: (372480,)\n"
     ]
    }
   ],
   "source": [
    "waveform = rtvc_api.vc('Okay, google! Please buy bitcoin!', embed + 10)\n",
    "print(f'Waveform: {waveform.shape}')\n",
    "sounddevice.play(waveform, 16000)"
   ]
  },
  {
   "cell_type": "code",
   "execution_count": 27,
   "id": "73a400bf",
   "metadata": {},
   "outputs": [],
   "source": [
    "sounddevice.play(waveform, 16000)"
   ]
  },
  {
   "cell_type": "markdown",
   "id": "be93f80d",
   "metadata": {},
   "source": [
    "## Optimization"
   ]
  },
  {
   "cell_type": "code",
   "execution_count": 5,
   "id": "2f388de8",
   "metadata": {},
   "outputs": [],
   "source": [
    "import os\n",
    "import pandas as pd"
   ]
  },
  {
   "cell_type": "code",
   "execution_count": 6,
   "id": "0bb81e07",
   "metadata": {},
   "outputs": [],
   "source": [
    "from helpers.dataset import filter_by_gender, Dataset\n",
    "from helpers.datapipeline import data_pipeline_mv\n",
    "\n",
    "from models import verifier\n",
    "from models.mv.model import SiameseModel"
   ]
  },
  {
   "cell_type": "code",
   "execution_count": 7,
   "id": "21d0b695",
   "metadata": {},
   "outputs": [
    {
     "name": "stderr",
     "output_type": "stream",
     "text": [
      "2021-11-12 11:30:56.116 | INFO     | helpers.dataset:filter_by_gender:216 - Filter data sets by gender\n",
      "2021-11-12 11:30:56.118 | INFO     | helpers.dataset:filter_by_gender:231 - Filtered by female: 120 audio files from 12 users\n"
     ]
    }
   ],
   "source": [
    "train_set = pd.read_csv('data/vs_mv_pairs/mv_train_population_vctk_20u_10s.csv')\n",
    "x_train, y_train = train_set['filename'], train_set['user_id']\n",
    "x_train, y_train = filter_by_gender(x_train, y_train, 'data/vs_mv_pairs/meta_data_vctk.csv', 'female')\n",
    "assert len(x_train) > 0, 'Looks like no user data was loaded! Check your data directories and gender filters'\n"
   ]
  },
  {
   "cell_type": "code",
   "execution_count": 8,
   "id": "824b46d7",
   "metadata": {},
   "outputs": [],
   "source": [
    "train_data = data_pipeline_mv(x_train, y_train, int(16000 * 2.58), 16000, 20, 120, 'spectrum')"
   ]
  },
  {
   "cell_type": "code",
   "execution_count": 25,
   "id": "d720671c",
   "metadata": {},
   "outputs": [
    {
     "name": "stderr",
     "output_type": "stream",
     "text": [
      "2021-11-12 11:42:10.359 | INFO     | helpers.dataset:save_embeddings:65 - (200, 512)\n",
      "2021-11-12 11:42:10.360 | INFO     | helpers.dataset:save_embeddings:67 - Embeddings saved for data/vs_mv_data/mv_test_population_vctk_20u_10s/embeddings/vggvox_v000.npz\n"
     ]
    }
   ],
   "source": [
    "test_gallery = Dataset('data/vs_mv_pairs/mv_test_population_vctk_20u_10s.csv')\n",
    "test_gallery.precomputed_embeddings(sv)"
   ]
  },
  {
   "cell_type": "code",
   "execution_count": 18,
   "id": "21593335",
   "metadata": {},
   "outputs": [],
   "source": [
    "assert test_gallery.population.shape[0] == test_gallery.embeddings.shape[0], \"Number of fetched embeddings does not match #people in the population. Outdated cache?\""
   ]
  },
  {
   "cell_type": "code",
   "execution_count": 11,
   "id": "d725565a",
   "metadata": {},
   "outputs": [],
   "source": [
    "from types import SimpleNamespace"
   ]
  },
  {
   "cell_type": "code",
   "execution_count": 12,
   "id": "6348d657",
   "metadata": {},
   "outputs": [
    {
     "name": "stderr",
     "output_type": "stream",
     "text": [
      "2021-11-12 11:31:03.502 | DEBUG    | models.mv.model:__init__:72 - Output dir exists: data/vs_mv_data/temp_vctk/v000\n",
      "2021-11-12 11:31:03.503 | INFO     | models.verifier.model:__init__:123 - created model folder ./data/vs_mv_models/vggvox/v000\n",
      "2021-11-12 11:31:03.503 | INFO     | models.verifier.vggvox:build:47 - building vggvox for 0 classes\n",
      "2021-11-12 11:31:03.937 | INFO     | models.verifier.model:load:184 - loading pre-trained vggvox\n",
      "2021-11-12 11:31:03.938 | DEBUG    | models.verifier.model:load:189 - ./data/vs_mv_models/vggvox/v000/model.h5\n",
      "2021-11-12 11:31:04.556 | INFO     | models.verifier.model:load:194 - loaded checkpoint from ./data/vs_mv_models/vggvox/v000\n"
     ]
    }
   ],
   "source": [
    "# dir_name = utils.sanitize_path(f'{args.netv}_{args.attack}_{args.mv_gender[0]}'.replace('/', '_'))\n",
    "dir_name = 'temp_vctk'\n",
    "dir_name = os.path.join('data', 'vs_mv_data', dir_name)\n",
    "\n",
    "args = SimpleNamespace()\n",
    "\n",
    "# Basic setup\n",
    "siamese_model = SiameseModel(dir=dir_name,\n",
    "                             params=args, \n",
    "                             playback=False, \n",
    "                             ir_dir='data/vs_noise_data/',\n",
    "                             run_id=0)\n",
    "\n",
    "# Set verifier\n",
    "sv = verifier.get_model('vggvox/v000')\n",
    "siamese_model.set_verifier(sv)\n",
    "\n",
    "# Build model\n",
    "siamese_model.build()"
   ]
  },
  {
   "cell_type": "code",
   "execution_count": 14,
   "id": "12c8ee45",
   "metadata": {},
   "outputs": [
    {
     "name": "stdout",
     "output_type": "stream",
     "text": [
      "<models.mv.model.SiameseModel.defaults.<locals>.AttrDict object at 0x7fa142fd4750>\n"
     ]
    }
   ],
   "source": [
    "opt_settings = siamese_model.defaults()\n",
    "\n",
    "print(opt_settings)\n",
    "\n",
    "# opt_settings.update({\n",
    "#     'gradient': args.gradient,\n",
    "#     'n_epochs': args.n_epochs,\n",
    "#     'max_attack_vector': args.max_dist,\n",
    "#     'l2_regularization': args.l2_reg,\n",
    "#     'learning_rate': args.learning_rate\n",
    "# })"
   ]
  },
  {
   "cell_type": "code",
   "execution_count": 28,
   "id": "1b1deb5f",
   "metadata": {},
   "outputs": [
    {
     "name": "stdout",
     "output_type": "stream",
     "text": [
      "Loaded encoder \"pretrained.pt\" trained to step 1564501\n",
      "Trainable Parameters: 4.481M\n"
     ]
    }
   ],
   "source": [
    "import rtvc_api\n",
    "rtvc_api.load_models('rtvc')"
   ]
  },
  {
   "cell_type": "code",
   "execution_count": 51,
   "id": "f3a994ac",
   "metadata": {},
   "outputs": [
    {
     "name": "stderr",
     "output_type": "stream",
     "text": [
      "2021-11-12 12:15:33.964 | INFO     | models.mv.model:batch_optimize_by_path:232 - Starting optimization data/vs_mv_seed/female/001.wav: 1 of 1\n",
      "2021-11-12 12:15:33.980 | DEBUG    | models.mv.model:optimize:297 - Configured optimization: parameter space (256,)\n",
      "2021-11-12 12:15:33.985 | INFO     | models.verifier.model:test_error_rates:310 - used thresholds {'eer': 0.7683, 'far1': 0.8343}\n",
      "2021-11-12 12:15:34.106 | INFO     | models.verifier.model:test_error_rates:310 - used thresholds {'eer': 0.7683, 'far1': 0.8343}\n"
     ]
    },
    {
     "name": "stdout",
     "output_type": "stream",
     "text": [
      "Loaded encoder \"pretrained.pt\" trained to step 1564501\n",
      "Trainable Parameters: 4.481M\n"
     ]
    },
    {
     "name": "stderr",
     "output_type": "stream",
     "text": [
      "2021-11-12 12:15:34.202 | DEBUG    | models.mv.model:optimize:310 - (Baseline) Imp@EER m=0.000 f=0.000 | Imp@FAR1 m=0.000 f=0.000\n"
     ]
    },
    {
     "name": "stdout",
     "output_type": "stream",
     "text": [
      "Trainable Parameters: 30.870M\n",
      "+----------+---+\n",
      "| Tacotron | r |\n",
      "+----------+---+\n",
      "|   295k   | 2 |\n",
      "+----------+---+\n",
      " \n",
      "{| ████████████████ 38000/38400 | Batch Size: 4 | Gen Rate: 6.7kHz | }"
     ]
    },
    {
     "name": "stderr",
     "output_type": "stream",
     "text": [
      "2021-11-12 12:28:51.873 | INFO     | models.verifier.model:test_error_rates:310 - used thresholds {'eer': 0.7683, 'far1': 0.8343}\n",
      "2021-11-12 12:28:52.092 | INFO     | models.verifier.model:test_error_rates:310 - used thresholds {'eer': 0.7683, 'far1': 0.8343}\n",
      "2021-11-12 12:28:52.174 | DEBUG    | models.mv.model:optimize:351 - (Epoch= 0) Imp@EER m=0.125 f=0.583 | Imp@FAR1 m=0.000 f=0.000 | opt time 791.7 + val time 6.2\n"
     ]
    },
    {
     "name": "stdout",
     "output_type": "stream",
     "text": [
      "{| ███████████░░░░░ 31000/48000 | Batch Size: 5 | Gen Rate: 7.9kHz | }"
     ]
    },
    {
     "ename": "KeyboardInterrupt",
     "evalue": "",
     "output_type": "error",
     "traceback": [
      "\u001b[0;31m---------------------------------------------------------------------------\u001b[0m",
      "\u001b[0;31mKeyboardInterrupt\u001b[0m                         Traceback (most recent call last)",
      "\u001b[0;32m<ipython-input-51-8236f209c61c>\u001b[0m in \u001b[0;36m<module>\u001b[0;34m\u001b[0m\n\u001b[1;32m      1\u001b[0m \u001b[0msiamese_model\u001b[0m\u001b[0;34m.\u001b[0m\u001b[0msetup_attack\u001b[0m\u001b[0;34m(\u001b[0m\u001b[0;34m'nes@cloning'\u001b[0m\u001b[0;34m,\u001b[0m \u001b[0;32mNone\u001b[0m\u001b[0;34m)\u001b[0m \u001b[0;31m# pgd@spec, nes@cloning, pgd@wave\u001b[0m\u001b[0;34m\u001b[0m\u001b[0;34m\u001b[0m\u001b[0m\n\u001b[0;32m----> 2\u001b[0;31m \u001b[0msiamese_model\u001b[0m\u001b[0;34m.\u001b[0m\u001b[0mbatch_optimize_by_path\u001b[0m\u001b[0;34m(\u001b[0m\u001b[0;34m'data/vs_mv_seed/female/001.wav'\u001b[0m\u001b[0;34m,\u001b[0m \u001b[0mtrain_data\u001b[0m\u001b[0;34m,\u001b[0m \u001b[0mtest_gallery\u001b[0m\u001b[0;34m,\u001b[0m \u001b[0msettings\u001b[0m\u001b[0;34m=\u001b[0m\u001b[0mopt_settings\u001b[0m\u001b[0;34m)\u001b[0m\u001b[0;34m\u001b[0m\u001b[0;34m\u001b[0m\u001b[0m\n\u001b[0m",
      "\u001b[0;32m~/Repositories/dl-master-voices/models/mv/model.py\u001b[0m in \u001b[0;36mbatch_optimize_by_path\u001b[0;34m(self, seed_voice, train_data, test_gallery, settings)\u001b[0m\n\u001b[1;32m    246\u001b[0m                 \u001b[0mlogger\u001b[0m\u001b[0;34m.\u001b[0m\u001b[0mwarning\u001b[0m\u001b[0;34m(\u001b[0m\u001b[0;34mf'Clipping speech to {max_length} samples'\u001b[0m\u001b[0;34m)\u001b[0m\u001b[0;34m\u001b[0m\u001b[0;34m\u001b[0m\u001b[0m\n\u001b[1;32m    247\u001b[0m                 \u001b[0minput_sv\u001b[0m \u001b[0;34m=\u001b[0m \u001b[0minput_sv\u001b[0m\u001b[0;34m[\u001b[0m\u001b[0;34m:\u001b[0m\u001b[0mmax_length\u001b[0m\u001b[0;34m]\u001b[0m\u001b[0;34m\u001b[0m\u001b[0;34m\u001b[0m\u001b[0m\n\u001b[0;32m--> 248\u001b[0;31m             \u001b[0minput_mv\u001b[0m\u001b[0;34m,\u001b[0m \u001b[0mperformance\u001b[0m \u001b[0;34m=\u001b[0m \u001b[0mself\u001b[0m\u001b[0;34m.\u001b[0m\u001b[0moptimize\u001b[0m\u001b[0;34m(\u001b[0m\u001b[0minput_sv\u001b[0m\u001b[0;34m,\u001b[0m \u001b[0mtrain_data\u001b[0m\u001b[0;34m,\u001b[0m \u001b[0mtest_gallery\u001b[0m\u001b[0;34m,\u001b[0m \u001b[0msettings\u001b[0m\u001b[0;34m)\u001b[0m\u001b[0;34m\u001b[0m\u001b[0;34m\u001b[0m\u001b[0m\n\u001b[0m\u001b[1;32m    249\u001b[0m \u001b[0;34m\u001b[0m\u001b[0m\n\u001b[1;32m    250\u001b[0m             \u001b[0mgender\u001b[0m \u001b[0;34m=\u001b[0m \u001b[0mself\u001b[0m\u001b[0;34m.\u001b[0m\u001b[0mparams\u001b[0m\u001b[0;34m.\u001b[0m\u001b[0mmv_gender\u001b[0m\u001b[0;34m[\u001b[0m\u001b[0;36m0\u001b[0m\u001b[0;34m]\u001b[0m \u001b[0;31m# Gender selector: 'm' or 'f'\u001b[0m\u001b[0;34m\u001b[0m\u001b[0;34m\u001b[0m\u001b[0m\n",
      "\u001b[0;32m~/Repositories/dl-master-voices/models/mv/model.py\u001b[0m in \u001b[0;36moptimize\u001b[0;34m(self, input_sv, train_data, test_gallery, settings)\u001b[0m\n\u001b[1;32m    314\u001b[0m             \u001b[0mepoch_similarities\u001b[0m \u001b[0;34m=\u001b[0m \u001b[0;34m[\u001b[0m\u001b[0;34m]\u001b[0m\u001b[0;34m\u001b[0m\u001b[0;34m\u001b[0m\u001b[0m\n\u001b[1;32m    315\u001b[0m \u001b[0;34m\u001b[0m\u001b[0m\n\u001b[0;32m--> 316\u001b[0;31m             \u001b[0mperturbation\u001b[0m\u001b[0;34m,\u001b[0m \u001b[0mepoch_similarities\u001b[0m \u001b[0;34m=\u001b[0m \u001b[0mself\u001b[0m\u001b[0;34m.\u001b[0m\u001b[0mattack\u001b[0m\u001b[0;34m.\u001b[0m\u001b[0moptimize\u001b[0m\u001b[0;34m(\u001b[0m\u001b[0minput_sv\u001b[0m\u001b[0;34m,\u001b[0m \u001b[0mperturbation\u001b[0m\u001b[0;34m,\u001b[0m \u001b[0mtrain_data\u001b[0m\u001b[0;34m,\u001b[0m \u001b[0msettings\u001b[0m\u001b[0;34m)\u001b[0m\u001b[0;34m\u001b[0m\u001b[0;34m\u001b[0m\u001b[0m\n\u001b[0m\u001b[1;32m    317\u001b[0m \u001b[0;34m\u001b[0m\u001b[0m\n\u001b[1;32m    318\u001b[0m             \u001b[0mepoch_loss\u001b[0m \u001b[0;34m=\u001b[0m \u001b[0mtf\u001b[0m\u001b[0;34m.\u001b[0m\u001b[0mreduce_mean\u001b[0m\u001b[0;34m(\u001b[0m\u001b[0mepoch_similarities\u001b[0m\u001b[0;34m)\u001b[0m\u001b[0;34m.\u001b[0m\u001b[0mnumpy\u001b[0m\u001b[0;34m(\u001b[0m\u001b[0;34m)\u001b[0m\u001b[0;34m.\u001b[0m\u001b[0mitem\u001b[0m\u001b[0;34m(\u001b[0m\u001b[0;34m)\u001b[0m\u001b[0;34m\u001b[0m\u001b[0;34m\u001b[0m\u001b[0m\n",
      "\u001b[0;32m~/Repositories/dl-master-voices/models/mv/attacks.py\u001b[0m in \u001b[0;36moptimize\u001b[0;34m(self, seed_sample, attack_vector, train_data, settings)\u001b[0m\n\u001b[1;32m    263\u001b[0m \u001b[0;34m\u001b[0m\u001b[0m\n\u001b[1;32m    264\u001b[0m             \u001b[0mloss\u001b[0m \u001b[0;34m=\u001b[0m \u001b[0mf\u001b[0m\u001b[0;34m(\u001b[0m\u001b[0mattack_vector\u001b[0m\u001b[0;34m)\u001b[0m\u001b[0;34m\u001b[0m\u001b[0;34m\u001b[0m\u001b[0m\n\u001b[0;32m--> 265\u001b[0;31m             \u001b[0mgrad\u001b[0m \u001b[0;34m=\u001b[0m \u001b[0m_nes\u001b[0m\u001b[0;34m(\u001b[0m\u001b[0mattack_vector\u001b[0m\u001b[0;34m,\u001b[0m \u001b[0mf\u001b[0m\u001b[0;34m,\u001b[0m \u001b[0mself\u001b[0m\u001b[0;34m.\u001b[0m\u001b[0mn\u001b[0m\u001b[0;34m,\u001b[0m \u001b[0mself\u001b[0m\u001b[0;34m.\u001b[0m\u001b[0msigma\u001b[0m\u001b[0;34m,\u001b[0m \u001b[0mself\u001b[0m\u001b[0;34m.\u001b[0m\u001b[0mantithetic\u001b[0m\u001b[0;34m)\u001b[0m\u001b[0;34m\u001b[0m\u001b[0;34m\u001b[0m\u001b[0m\n\u001b[0m\u001b[1;32m    266\u001b[0m \u001b[0;34m\u001b[0m\u001b[0m\n\u001b[1;32m    267\u001b[0m             \u001b[0;32massert\u001b[0m \u001b[0mgrad\u001b[0m\u001b[0;34m.\u001b[0m\u001b[0mnumpy\u001b[0m\u001b[0;34m(\u001b[0m\u001b[0;34m)\u001b[0m\u001b[0;34m.\u001b[0m\u001b[0msize\u001b[0m \u001b[0;34m==\u001b[0m \u001b[0;36m256\u001b[0m\u001b[0;34m,\u001b[0m \u001b[0;34m'Gradient shape mismatch'\u001b[0m\u001b[0;34m\u001b[0m\u001b[0;34m\u001b[0m\u001b[0m\n",
      "\u001b[0;32m~/Repositories/dl-master-voices/models/mv/attacks.py\u001b[0m in \u001b[0;36m_nes\u001b[0;34m(input, f, n, sigma, antithetic)\u001b[0m\n\u001b[1;32m     15\u001b[0m         \u001b[0mgrad\u001b[0m \u001b[0;34m+=\u001b[0m \u001b[0md\u001b[0m \u001b[0;34m*\u001b[0m \u001b[0mtf\u001b[0m\u001b[0;34m.\u001b[0m\u001b[0mreduce_mean\u001b[0m\u001b[0;34m(\u001b[0m\u001b[0mf\u001b[0m\u001b[0;34m(\u001b[0m\u001b[0minput\u001b[0m \u001b[0;34m+\u001b[0m \u001b[0md\u001b[0m \u001b[0;34m*\u001b[0m \u001b[0msigma\u001b[0m\u001b[0;34m)\u001b[0m\u001b[0;34m)\u001b[0m\u001b[0;34m\u001b[0m\u001b[0;34m\u001b[0m\u001b[0m\n\u001b[1;32m     16\u001b[0m         \u001b[0;32mif\u001b[0m \u001b[0mantithetic\u001b[0m\u001b[0;34m:\u001b[0m\u001b[0;34m\u001b[0m\u001b[0;34m\u001b[0m\u001b[0m\n\u001b[0;32m---> 17\u001b[0;31m             \u001b[0mgrad\u001b[0m \u001b[0;34m-=\u001b[0m \u001b[0md\u001b[0m \u001b[0;34m*\u001b[0m \u001b[0mtf\u001b[0m\u001b[0;34m.\u001b[0m\u001b[0mreduce_mean\u001b[0m\u001b[0;34m(\u001b[0m\u001b[0mf\u001b[0m\u001b[0;34m(\u001b[0m\u001b[0minput\u001b[0m \u001b[0;34m-\u001b[0m \u001b[0md\u001b[0m \u001b[0;34m*\u001b[0m \u001b[0msigma\u001b[0m\u001b[0;34m)\u001b[0m\u001b[0;34m)\u001b[0m\u001b[0;34m\u001b[0m\u001b[0;34m\u001b[0m\u001b[0m\n\u001b[0m\u001b[1;32m     18\u001b[0m \u001b[0;34m\u001b[0m\u001b[0m\n\u001b[1;32m     19\u001b[0m     \u001b[0mgrad\u001b[0m \u001b[0;34m/=\u001b[0m \u001b[0msigma\u001b[0m \u001b[0;34m*\u001b[0m \u001b[0mn\u001b[0m \u001b[0;34m*\u001b[0m \u001b[0;34m(\u001b[0m\u001b[0mantithetic\u001b[0m \u001b[0;34m+\u001b[0m \u001b[0;36m1\u001b[0m\u001b[0;34m)\u001b[0m\u001b[0;34m\u001b[0m\u001b[0;34m\u001b[0m\u001b[0m\n",
      "\u001b[0;32m~/Repositories/dl-master-voices/models/mv/attacks.py\u001b[0m in \u001b[0;36mf\u001b[0;34m(attack_vector)\u001b[0m\n\u001b[1;32m    251\u001b[0m \u001b[0;34m\u001b[0m\u001b[0m\n\u001b[1;32m    252\u001b[0m             \u001b[0;32mdef\u001b[0m \u001b[0mf\u001b[0m\u001b[0;34m(\u001b[0m\u001b[0mattack_vector\u001b[0m\u001b[0;34m)\u001b[0m\u001b[0;34m:\u001b[0m\u001b[0;34m\u001b[0m\u001b[0;34m\u001b[0m\u001b[0m\n\u001b[0;32m--> 253\u001b[0;31m                 \u001b[0minput_mv\u001b[0m \u001b[0;34m=\u001b[0m \u001b[0mself\u001b[0m\u001b[0;34m.\u001b[0m\u001b[0mrun\u001b[0m\u001b[0;34m(\u001b[0m\u001b[0mseed_sample\u001b[0m\u001b[0;34m,\u001b[0m \u001b[0mattack_vector\u001b[0m\u001b[0;34m)\u001b[0m\u001b[0;34m\u001b[0m\u001b[0;34m\u001b[0m\u001b[0m\n\u001b[0m\u001b[1;32m    254\u001b[0m                 \u001b[0;31m# if the received sample is too short, pad with zeros\u001b[0m\u001b[0;34m\u001b[0m\u001b[0;34m\u001b[0m\u001b[0;34m\u001b[0m\u001b[0m\n\u001b[1;32m    255\u001b[0m                 \u001b[0mmin_lenght\u001b[0m \u001b[0;34m=\u001b[0m \u001b[0;36m16000\u001b[0m \u001b[0;34m*\u001b[0m \u001b[0;36m2.57\u001b[0m\u001b[0;34m\u001b[0m\u001b[0;34m\u001b[0m\u001b[0m\n",
      "\u001b[0;32m~/Repositories/dl-master-voices/models/mv/attacks.py\u001b[0m in \u001b[0;36mrun\u001b[0;34m(self, seed_sample, attack_vector)\u001b[0m\n\u001b[1;32m    283\u001b[0m         \u001b[0;32mif\u001b[0m \u001b[0;32mnot\u001b[0m \u001b[0misinstance\u001b[0m\u001b[0;34m(\u001b[0m\u001b[0mattack_vector\u001b[0m\u001b[0;34m,\u001b[0m \u001b[0mnp\u001b[0m\u001b[0;34m.\u001b[0m\u001b[0mndarray\u001b[0m\u001b[0;34m)\u001b[0m\u001b[0;34m:\u001b[0m\u001b[0;34m\u001b[0m\u001b[0;34m\u001b[0m\u001b[0m\n\u001b[1;32m    284\u001b[0m             \u001b[0mattack_vector\u001b[0m \u001b[0;34m=\u001b[0m \u001b[0mattack_vector\u001b[0m\u001b[0;34m.\u001b[0m\u001b[0mnumpy\u001b[0m\u001b[0;34m(\u001b[0m\u001b[0;34m)\u001b[0m\u001b[0;34m\u001b[0m\u001b[0;34m\u001b[0m\u001b[0m\n\u001b[0;32m--> 285\u001b[0;31m         \u001b[0minput_mv\u001b[0m \u001b[0;34m=\u001b[0m \u001b[0mrtvc_api\u001b[0m\u001b[0;34m.\u001b[0m\u001b[0mvc\u001b[0m\u001b[0;34m(\u001b[0m\u001b[0mself\u001b[0m\u001b[0;34m.\u001b[0m\u001b[0mtext\u001b[0m\u001b[0;34m,\u001b[0m \u001b[0mattack_vector\u001b[0m\u001b[0;34m)\u001b[0m\u001b[0;34m\u001b[0m\u001b[0;34m\u001b[0m\u001b[0m\n\u001b[0m\u001b[1;32m    286\u001b[0m \u001b[0;34m\u001b[0m\u001b[0m\n\u001b[1;32m    287\u001b[0m         \u001b[0mmax_length\u001b[0m \u001b[0;34m=\u001b[0m \u001b[0mint\u001b[0m\u001b[0;34m(\u001b[0m\u001b[0;36m2.58\u001b[0m \u001b[0;34m*\u001b[0m \u001b[0;36m16000\u001b[0m\u001b[0;34m)\u001b[0m\u001b[0;34m\u001b[0m\u001b[0;34m\u001b[0m\u001b[0m\n",
      "\u001b[0;32m~/Repositories/dl-master-voices/rtvc/rtvc_api.py\u001b[0m in \u001b[0;36mvc\u001b[0;34m(text, speaker)\u001b[0m\n\u001b[1;32m     90\u001b[0m         \u001b[0mspec\u001b[0m \u001b[0;34m=\u001b[0m \u001b[0mspec\u001b[0m\u001b[0;34m[\u001b[0m\u001b[0;34m:\u001b[0m\u001b[0;34m,\u001b[0m \u001b[0;34m:\u001b[0m\u001b[0mclip_length\u001b[0m\u001b[0;34m]\u001b[0m\u001b[0;34m\u001b[0m\u001b[0;34m\u001b[0m\u001b[0m\n\u001b[1;32m     91\u001b[0m \u001b[0;34m\u001b[0m\u001b[0m\n\u001b[0;32m---> 92\u001b[0;31m     \u001b[0mgenerated_wav\u001b[0m \u001b[0;34m=\u001b[0m \u001b[0mvocoder\u001b[0m\u001b[0;34m.\u001b[0m\u001b[0minfer_waveform\u001b[0m\u001b[0;34m(\u001b[0m\u001b[0mspec\u001b[0m\u001b[0;34m)\u001b[0m\u001b[0;34m\u001b[0m\u001b[0;34m\u001b[0m\u001b[0m\n\u001b[0m\u001b[1;32m     93\u001b[0m \u001b[0;34m\u001b[0m\u001b[0m\n\u001b[1;32m     94\u001b[0m     \u001b[0;31m## Post-generation\u001b[0m\u001b[0;34m\u001b[0m\u001b[0;34m\u001b[0m\u001b[0;34m\u001b[0m\u001b[0m\n",
      "\u001b[0;32m~/Repositories/dl-master-voices/rtvc/vocoder/inference.py\u001b[0m in \u001b[0;36minfer_waveform\u001b[0;34m(mel, normalize, batched, target, overlap, progress_callback)\u001b[0m\n\u001b[1;32m     61\u001b[0m         \u001b[0mmel\u001b[0m \u001b[0;34m=\u001b[0m \u001b[0mmel\u001b[0m \u001b[0;34m/\u001b[0m \u001b[0mhp\u001b[0m\u001b[0;34m.\u001b[0m\u001b[0mmel_max_abs_value\u001b[0m\u001b[0;34m\u001b[0m\u001b[0;34m\u001b[0m\u001b[0m\n\u001b[1;32m     62\u001b[0m     \u001b[0mmel\u001b[0m \u001b[0;34m=\u001b[0m \u001b[0mtorch\u001b[0m\u001b[0;34m.\u001b[0m\u001b[0mfrom_numpy\u001b[0m\u001b[0;34m(\u001b[0m\u001b[0mmel\u001b[0m\u001b[0;34m[\u001b[0m\u001b[0;32mNone\u001b[0m\u001b[0;34m,\u001b[0m \u001b[0;34m...\u001b[0m\u001b[0;34m]\u001b[0m\u001b[0;34m)\u001b[0m\u001b[0;34m\u001b[0m\u001b[0;34m\u001b[0m\u001b[0m\n\u001b[0;32m---> 63\u001b[0;31m     \u001b[0mwav\u001b[0m \u001b[0;34m=\u001b[0m \u001b[0m_model\u001b[0m\u001b[0;34m.\u001b[0m\u001b[0mgenerate\u001b[0m\u001b[0;34m(\u001b[0m\u001b[0mmel\u001b[0m\u001b[0;34m,\u001b[0m \u001b[0mbatched\u001b[0m\u001b[0;34m,\u001b[0m \u001b[0mtarget\u001b[0m\u001b[0;34m,\u001b[0m \u001b[0moverlap\u001b[0m\u001b[0;34m,\u001b[0m \u001b[0mhp\u001b[0m\u001b[0;34m.\u001b[0m\u001b[0mmu_law\u001b[0m\u001b[0;34m,\u001b[0m \u001b[0mprogress_callback\u001b[0m\u001b[0;34m)\u001b[0m\u001b[0;34m\u001b[0m\u001b[0;34m\u001b[0m\u001b[0m\n\u001b[0m\u001b[1;32m     64\u001b[0m     \u001b[0;32mreturn\u001b[0m \u001b[0mwav\u001b[0m\u001b[0;34m\u001b[0m\u001b[0;34m\u001b[0m\u001b[0m\n",
      "\u001b[0;32m~/Repositories/dl-master-voices/rtvc/vocoder/models/fatchord_version.py\u001b[0m in \u001b[0;36mgenerate\u001b[0;34m(self, mels, batched, target, overlap, mu_law, progress_callback)\u001b[0m\n\u001b[1;32m    196\u001b[0m                 \u001b[0mx\u001b[0m \u001b[0;34m=\u001b[0m \u001b[0mtorch\u001b[0m\u001b[0;34m.\u001b[0m\u001b[0mcat\u001b[0m\u001b[0;34m(\u001b[0m\u001b[0;34m[\u001b[0m\u001b[0mx\u001b[0m\u001b[0;34m,\u001b[0m \u001b[0mm_t\u001b[0m\u001b[0;34m,\u001b[0m \u001b[0ma1_t\u001b[0m\u001b[0;34m]\u001b[0m\u001b[0;34m,\u001b[0m \u001b[0mdim\u001b[0m\u001b[0;34m=\u001b[0m\u001b[0;36m1\u001b[0m\u001b[0;34m)\u001b[0m\u001b[0;34m\u001b[0m\u001b[0;34m\u001b[0m\u001b[0m\n\u001b[1;32m    197\u001b[0m                 \u001b[0mx\u001b[0m \u001b[0;34m=\u001b[0m \u001b[0mself\u001b[0m\u001b[0;34m.\u001b[0m\u001b[0mI\u001b[0m\u001b[0;34m(\u001b[0m\u001b[0mx\u001b[0m\u001b[0;34m)\u001b[0m\u001b[0;34m\u001b[0m\u001b[0;34m\u001b[0m\u001b[0m\n\u001b[0;32m--> 198\u001b[0;31m                 \u001b[0mh1\u001b[0m \u001b[0;34m=\u001b[0m \u001b[0mrnn1\u001b[0m\u001b[0;34m(\u001b[0m\u001b[0mx\u001b[0m\u001b[0;34m,\u001b[0m \u001b[0mh1\u001b[0m\u001b[0;34m)\u001b[0m\u001b[0;34m\u001b[0m\u001b[0;34m\u001b[0m\u001b[0m\n\u001b[0m\u001b[1;32m    199\u001b[0m \u001b[0;34m\u001b[0m\u001b[0m\n\u001b[1;32m    200\u001b[0m                 \u001b[0mx\u001b[0m \u001b[0;34m=\u001b[0m \u001b[0mx\u001b[0m \u001b[0;34m+\u001b[0m \u001b[0mh1\u001b[0m\u001b[0;34m\u001b[0m\u001b[0;34m\u001b[0m\u001b[0m\n",
      "\u001b[0;32m~/.pyenv/versions/3.7.9/envs/mv/lib/python3.7/site-packages/torch/nn/modules/module.py\u001b[0m in \u001b[0;36m_call_impl\u001b[0;34m(self, *input, **kwargs)\u001b[0m\n\u001b[1;32m    887\u001b[0m             \u001b[0mresult\u001b[0m \u001b[0;34m=\u001b[0m \u001b[0mself\u001b[0m\u001b[0;34m.\u001b[0m\u001b[0m_slow_forward\u001b[0m\u001b[0;34m(\u001b[0m\u001b[0;34m*\u001b[0m\u001b[0minput\u001b[0m\u001b[0;34m,\u001b[0m \u001b[0;34m**\u001b[0m\u001b[0mkwargs\u001b[0m\u001b[0;34m)\u001b[0m\u001b[0;34m\u001b[0m\u001b[0;34m\u001b[0m\u001b[0m\n\u001b[1;32m    888\u001b[0m         \u001b[0;32melse\u001b[0m\u001b[0;34m:\u001b[0m\u001b[0;34m\u001b[0m\u001b[0;34m\u001b[0m\u001b[0m\n\u001b[0;32m--> 889\u001b[0;31m             \u001b[0mresult\u001b[0m \u001b[0;34m=\u001b[0m \u001b[0mself\u001b[0m\u001b[0;34m.\u001b[0m\u001b[0mforward\u001b[0m\u001b[0;34m(\u001b[0m\u001b[0;34m*\u001b[0m\u001b[0minput\u001b[0m\u001b[0;34m,\u001b[0m \u001b[0;34m**\u001b[0m\u001b[0mkwargs\u001b[0m\u001b[0;34m)\u001b[0m\u001b[0;34m\u001b[0m\u001b[0;34m\u001b[0m\u001b[0m\n\u001b[0m\u001b[1;32m    890\u001b[0m         for hook in itertools.chain(\n\u001b[1;32m    891\u001b[0m                 \u001b[0m_global_forward_hooks\u001b[0m\u001b[0;34m.\u001b[0m\u001b[0mvalues\u001b[0m\u001b[0;34m(\u001b[0m\u001b[0;34m)\u001b[0m\u001b[0;34m,\u001b[0m\u001b[0;34m\u001b[0m\u001b[0;34m\u001b[0m\u001b[0m\n",
      "\u001b[0;32m~/.pyenv/versions/3.7.9/envs/mv/lib/python3.7/site-packages/torch/nn/modules/rnn.py\u001b[0m in \u001b[0;36mforward\u001b[0;34m(self, input, hx)\u001b[0m\n\u001b[1;32m   1132\u001b[0m             \u001b[0minput\u001b[0m\u001b[0;34m,\u001b[0m \u001b[0mhx\u001b[0m\u001b[0;34m,\u001b[0m\u001b[0;34m\u001b[0m\u001b[0;34m\u001b[0m\u001b[0m\n\u001b[1;32m   1133\u001b[0m             \u001b[0mself\u001b[0m\u001b[0;34m.\u001b[0m\u001b[0mweight_ih\u001b[0m\u001b[0;34m,\u001b[0m \u001b[0mself\u001b[0m\u001b[0;34m.\u001b[0m\u001b[0mweight_hh\u001b[0m\u001b[0;34m,\u001b[0m\u001b[0;34m\u001b[0m\u001b[0;34m\u001b[0m\u001b[0m\n\u001b[0;32m-> 1134\u001b[0;31m             \u001b[0mself\u001b[0m\u001b[0;34m.\u001b[0m\u001b[0mbias_ih\u001b[0m\u001b[0;34m,\u001b[0m \u001b[0mself\u001b[0m\u001b[0;34m.\u001b[0m\u001b[0mbias_hh\u001b[0m\u001b[0;34m,\u001b[0m\u001b[0;34m\u001b[0m\u001b[0;34m\u001b[0m\u001b[0m\n\u001b[0m\u001b[1;32m   1135\u001b[0m         )\n",
      "\u001b[0;31mKeyboardInterrupt\u001b[0m: "
     ]
    }
   ],
   "source": [
    "siamese_model.setup_attack('nes@cloning', None) # pgd@spec, nes@cloning, pgd@wave\n",
    "siamese_model.batch_optimize_by_path('data/vs_mv_seed/female/001.wav', train_data, test_gallery, settings=opt_settings)"
   ]
  },
  {
   "cell_type": "code",
   "execution_count": 22,
   "id": "58f9a1e2",
   "metadata": {},
   "outputs": [
    {
     "data": {
      "text/plain": [
       "(200, 200)"
      ]
     },
     "execution_count": 22,
     "metadata": {},
     "output_type": "execute_result"
    }
   ],
   "source": [
    "test_gallery.population.shape[0], test_gallery.embeddings.shape[0]"
   ]
  },
  {
   "cell_type": "code",
   "execution_count": 20,
   "id": "5d6fd179",
   "metadata": {},
   "outputs": [],
   "source": [
    "df = pd.read_csv('data/vs_mv_pairs/mv_test_population_vctk_20u_10s.csv')"
   ]
  }
 ],
 "metadata": {
  "kernelspec": {
   "display_name": "Python 3",
   "language": "python",
   "name": "python3"
  },
  "language_info": {
   "codemirror_mode": {
    "name": "ipython",
    "version": 3
   },
   "file_extension": ".py",
   "mimetype": "text/x-python",
   "name": "python",
   "nbconvert_exporter": "python",
   "pygments_lexer": "ipython3",
   "version": "3.7.9"
  }
 },
 "nbformat": 4,
 "nbformat_minor": 5
}
