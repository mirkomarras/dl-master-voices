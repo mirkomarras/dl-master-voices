{
 "cells": [
  {
   "cell_type": "code",
   "execution_count": 1,
   "id": "f934614a",
   "metadata": {},
   "outputs": [],
   "source": [
    "import tensorflow as tf"
   ]
  },
  {
   "cell_type": "code",
   "execution_count": 2,
   "id": "50d34011",
   "metadata": {},
   "outputs": [],
   "source": [
    "tf.config.set_visible_devices([], 'gpu')"
   ]
  },
  {
   "cell_type": "code",
   "execution_count": 3,
   "id": "e41b2da9",
   "metadata": {},
   "outputs": [],
   "source": [
    "def _nes(input, f, n=10, sigma=0.1, antithetic=True):\n",
    "    grad = tf.convert_to_tensor(np.zeros_like(input))\n",
    "\n",
    "    for _ in range(n):\n",
    "        d = tf.random.normal(input.shape)\n",
    "        grad += d * tf.reduce_mean(f(input + d * sigma))\n",
    "        if antithetic:\n",
    "            grad -= d * tf.reduce_mean(f(input - d * sigma))\n",
    "        \n",
    "    grad /= sigma * n * (antithetic + 1) \n",
    "    return grad\n"
   ]
  },
  {
   "cell_type": "code",
   "execution_count": 4,
   "id": "d1a7ad4f",
   "metadata": {},
   "outputs": [],
   "source": [
    "m = tf.keras.Sequential([\n",
    "    tf.keras.Input((2)),\n",
    "    tf.keras.layers.Dense(1)\n",
    "])"
   ]
  },
  {
   "cell_type": "code",
   "execution_count": 11,
   "id": "d257654e",
   "metadata": {},
   "outputs": [
    {
     "data": {
      "text/plain": [
       "<KerasTensor: shape=(None, 2) dtype=float32 (created by layer 'input_1')>"
      ]
     },
     "execution_count": 11,
     "metadata": {},
     "output_type": "execute_result"
    }
   ],
   "source": [
    "m.input"
   ]
  },
  {
   "cell_type": "code",
   "execution_count": 10,
   "id": "4b4e02cb",
   "metadata": {},
   "outputs": [
    {
     "name": "stdout",
     "output_type": "stream",
     "text": [
      "Model: \"sequential\"\n",
      "_________________________________________________________________\n",
      "Layer (type)                 Output Shape              Param #   \n",
      "=================================================================\n",
      "dense (Dense)                (None, 1)                 3         \n",
      "=================================================================\n",
      "Total params: 3\n",
      "Trainable params: 3\n",
      "Non-trainable params: 0\n",
      "_________________________________________________________________\n"
     ]
    }
   ],
   "source": [
    "m.summary()"
   ]
  },
  {
   "cell_type": "code",
   "execution_count": 15,
   "id": "e0b6bab5",
   "metadata": {},
   "outputs": [
    {
     "data": {
      "text/plain": [
       "<tf.Tensor: shape=(2, 1), dtype=float32, numpy=\n",
       "array([[-1.3314   ],\n",
       "       [-2.4061174]], dtype=float32)>"
      ]
     },
     "execution_count": 15,
     "metadata": {},
     "output_type": "execute_result"
    }
   ],
   "source": [
    "m(tf.convert_to_tensor([[1,1], [1, 2]]))"
   ]
  },
  {
   "cell_type": "code",
   "execution_count": 6,
   "id": "b15e8fcd",
   "metadata": {},
   "outputs": [],
   "source": [
    "import matplotlib.pyplot as plt\n",
    "import numpy as np"
   ]
  },
  {
   "cell_type": "code",
   "execution_count": 7,
   "id": "59678867",
   "metadata": {},
   "outputs": [],
   "source": [
    "n = 11\n",
    "x = np.linspace(-1, 1, n)\n",
    "y = np.linspace(-1, 1, n)\n",
    "\n",
    "X, Y = np.meshgrid(x, y)\n",
    "G = np.concatenate((X.reshape((-1,1)), Y.reshape((-1,1))), axis=1)"
   ]
  },
  {
   "cell_type": "code",
   "execution_count": 8,
   "id": "cc441ee1",
   "metadata": {},
   "outputs": [],
   "source": [
    "Z = m(G).numpy().reshape((n, n))"
   ]
  },
  {
   "cell_type": "code",
   "execution_count": 62,
   "id": "abceb3eb",
   "metadata": {},
   "outputs": [
    {
     "data": {
      "text/plain": [
       "(11, 11)"
      ]
     },
     "execution_count": 62,
     "metadata": {},
     "output_type": "execute_result"
    }
   ],
   "source": [
    "Z.shape"
   ]
  },
  {
   "cell_type": "code",
   "execution_count": 9,
   "id": "d271dcfb",
   "metadata": {},
   "outputs": [
    {
     "data": {
      "text/plain": [
       "<matplotlib.colorbar.Colorbar at 0x7fdd94131d90>"
      ]
     },
     "execution_count": 9,
     "metadata": {},
     "output_type": "execute_result"
    },
    {
     "data": {
      "image/png": "[encoded data removed]",
      "text/plain": [
       "<Figure size 432x288 with 2 Axes>"
      ]
     },
     "metadata": {
      "needs_background": "light"
     },
     "output_type": "display_data"
    }
   ],
   "source": [
    "plt.imshow(Z)\n",
    "plt.colorbar()"
   ]
  },
  {
   "cell_type": "code",
   "execution_count": 74,
   "id": "27c63b00",
   "metadata": {},
   "outputs": [
    {
     "data": {
      "text/plain": [
       "(11, 11)"
      ]
     },
     "execution_count": 74,
     "metadata": {},
     "output_type": "execute_result"
    }
   ],
   "source": [
    "X.shape"
   ]
  },
  {
   "cell_type": "code",
   "execution_count": 93,
   "id": "74d67b2f",
   "metadata": {},
   "outputs": [
    {
     "data": {
      "text/plain": [
       "TensorShape([1, 2])"
      ]
     },
     "execution_count": 93,
     "metadata": {},
     "output_type": "execute_result"
    }
   ],
   "source": [
    "grad[0].shape"
   ]
  },
  {
   "cell_type": "code",
   "execution_count": 19,
   "id": "17b045bc",
   "metadata": {},
   "outputs": [
    {
     "data": {
      "text/plain": [
       "(-1.0, 1.0, -1.0, 1.0)"
      ]
     },
     "execution_count": 19,
     "metadata": {},
     "output_type": "execute_result"
    },
    {
     "data": {
      "image/png": "[encoded data removed]",
      "text/plain": [
       "<Figure size 432x288 with 1 Axes>"
      ]
     },
     "metadata": {
      "needs_background": "light"
     },
     "output_type": "display_data"
    }
   ],
   "source": [
    "p = tf.convert_to_tensor([[0.5, 0.5]])\n",
    "with tf.GradientTape() as tape:\n",
    "    tape.watch(p)\n",
    "    loss = m(p)\n",
    "grad = tape.gradient(loss, [p])[0]\n",
    "\n",
    "nes_grads = [_nes(p, m, 100, 0.01) for _ in range(5)]\n",
    "\n",
    "plt.contour(X, Y, Z)\n",
    "q = p + grad\n",
    "plt.plot(p[0,0], p[0,1], 'rx')\n",
    "plt.plot(q[0,0], q[0,1], 'bo')\n",
    "plt.arrow(*p[0], *grad[0])\n",
    "for grad in nes_grads:\n",
    "    plt.arrow(*p[0], *grad[0], linestyle='dotted', color='green')\n",
    "    \n",
    "plt.axis('square')"
   ]
  }
 ],
 "metadata": {
  "kernelspec": {
   "display_name": "Python 3",
   "language": "python",
   "name": "python3"
  },
  "language_info": {
   "codemirror_mode": {
    "name": "ipython",
    "version": 3
   },
   "file_extension": ".py",
   "mimetype": "text/x-python",
   "name": "python",
   "nbconvert_exporter": "python",
   "pygments_lexer": "ipython3",
   "version": "3.7.9"
  }
 },
 "nbformat": 4,
 "nbformat_minor": 5
}
