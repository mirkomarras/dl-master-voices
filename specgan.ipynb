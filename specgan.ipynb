{
 "cells": [
  {
   "cell_type": "code",
   "execution_count": null,
   "metadata": {},
   "outputs": [],
   "source": [
    "%load_ext autoreload\n",
    "%autoreload 2"
   ]
  },
  {
   "cell_type": "code",
   "execution_count": null,
   "metadata": {},
   "outputs": [],
   "source": [
    "import tensorflow as tf\n",
    "import numpy as np\n",
    "import argparse\n",
    "import glob\n",
    "import sys\n",
    "import os\n",
    "\n",
    "import matplotlib.pyplot as plt\n",
    "\n",
    "from helpers.dataset import get_mv_analysis_users, load_data_set, filter_by_gender\n",
    "from helpers.datapipeline import data_pipeline_generator_gan, data_pipeline_gan\n",
    "from helpers import plotting\n",
    "from models.gan.wavegan import WaveGAN\n",
    "from models.gan.specgan import SpecGAN"
   ]
  },
  {
   "cell_type": "code",
   "execution_count": null,
   "metadata": {},
   "outputs": [],
   "source": [
    "from collections import namedtuple\n",
    "\n",
    "Args = namedtuple('Args', 'net,gender,latent_dim,slice_len,audio_dir,audio_meta,mv_data_path,n_epochs,batch,prefetch,n_seconds,sample_rate')\n",
    "args = Args('specgan', 'female', 100, 16384, '/beegfs/mm10572/voxceleb1/dev', './data/ad_voxceleb12/vox12_meta_data.csv', \n",
    "            './data/ad_voxceleb12/vox2_mv_data.npz', 2000, 64, 0, 3, 16000)"
   ]
  },
  {
   "cell_type": "code",
   "execution_count": null,
   "metadata": {},
   "outputs": [],
   "source": [
    "print('Parameters summary')\n",
    "print('>', 'Net GAN: {}'.format(args.net))\n",
    "print('>', 'Gender GAN: {}'.format(args.gender))\n",
    "print('>', 'Latent dim: {}'.format(args.latent_dim))\n",
    "print('>', 'Slice len: {}'.format(args.slice_len))\n",
    "\n",
    "print('>', 'Audio dirs: {}'.format(args.audio_dir))\n",
    "print('>', 'Audio meta: {}'.format(args.audio_meta))\n",
    "print('>', 'Master voice data: {}'.format(args.mv_data_path))\n",
    "print('>', 'Number of epochs: {}'.format(args.n_epochs))\n",
    "print('>', 'Batch size: {}'.format(args.batch))\n",
    "print('>', 'Prefetch: {}'.format(args.prefetch))\n",
    "print('>', 'Max number of seconds: {}'.format(args.n_seconds))\n",
    "\n",
    "print('>', 'Sample rate: {}'.format(args.sample_rate))"
   ]
  },
  {
   "cell_type": "code",
   "execution_count": null,
   "metadata": {},
   "outputs": [],
   "source": [
    "# Load data set\n",
    "print('Loading data')\n",
    "audio_dir = map(str, args.audio_dir.split(','))\n",
    "mv_user_ids = get_mv_analysis_users(args.mv_data_path)\n",
    "x_train, y_train = load_data_set(audio_dir, mv_user_ids)\n",
    "x_train, y_train = filter_by_gender(x_train, y_train, args.audio_meta, args.gender)\n",
    "\n",
    "x_train, y_train = x_train[:8192], y_train[:8192]\n",
    "\n",
    "classes = len(np.unique(y_train))\n",
    "\n",
    "print(f'X_train {len(x_train)}: {x_train[:3]}')\n",
    "print(f'Y_train {len(y_train)}: {y_train[:3]}')\n",
    "\n",
    "# Generator output test\n",
    "print('Checking generator output')\n",
    "for index, x in enumerate(data_pipeline_generator_gan(x_train[:10], slice_len=args.slice_len, sample_rate=args.sample_rate)):\n",
    "    print('>', index, x.shape)\n",
    "\n",
    "# Data pipeline output test\n",
    "print('Checking data pipeline output')\n",
    "train_data = data_pipeline_gan(x_train, slice_len=args.slice_len, sample_rate=args.sample_rate, batch=args.batch, prefetch=args.prefetch, output_type='spectrum' if args.net == 'specgan' else 'raw')\n",
    "\n",
    "for index, x in enumerate(train_data):\n",
    "    print('>', index, x.shape)\n",
    "    if index == 10:\n",
    "        break\n",
    "\n",
    "# Create and train model\n",
    "train_data = data_pipeline_gan(x_train, slice_len=args.slice_len, sample_rate=args.sample_rate, batch=args.batch, prefetch=args.prefetch, output_type='spectrum' if args.net == 'specgan' else 'raw')"
   ]
  },
  {
   "cell_type": "code",
   "execution_count": null,
   "metadata": {},
   "outputs": [],
   "source": [
    "f = plotting.imsc(x.numpy(), '')"
   ]
  },
  {
   "cell_type": "code",
   "execution_count": null,
   "metadata": {},
   "outputs": [],
   "source": [
    "plt.figure()\n",
    "plt.imshow(x[2].numpy().squeeze())\n",
    "plt.figure()\n",
    "_ = plt.hist(x[2].numpy().ravel())"
   ]
  },
  {
   "cell_type": "code",
   "execution_count": null,
   "metadata": {},
   "outputs": [],
   "source": [
    "# Create GAN\n",
    "model_id = int(args.net.split('/')[1].replace('v','')) if '/v' in args.net else -1\n",
    "print('Creating GAN with id={}'.format(model_id))\n",
    "available_nets = {'wavegan': WaveGAN, 'specgan': SpecGAN}\n",
    "gan_model = available_nets[args.net.split('/')[0]](id=model_id, gender=args.gender, latent_dim=args.latent_dim, slice_len=args.slice_len, lr=1e-5)"
   ]
  },
  {
   "cell_type": "code",
   "execution_count": null,
   "metadata": {},
   "outputs": [],
   "source": [
    "!rm -rf data/pt_models/specgan/female/"
   ]
  },
  {
   "cell_type": "code",
   "execution_count": null,
   "metadata": {},
   "outputs": [],
   "source": [
    "gan_model.build()"
   ]
  },
  {
   "cell_type": "code",
   "execution_count": null,
   "metadata": {},
   "outputs": [],
   "source": [
    "gan_model.train_step(batch_x)"
   ]
  },
  {
   "cell_type": "code",
   "execution_count": null,
   "metadata": {},
   "outputs": [],
   "source": [
    "print(f'X_train {len(x_train)}: {x_train[:3]}')\n",
    "print(f'Y_train {len(y_train)}: {y_train[:3]}')"
   ]
  },
  {
   "cell_type": "code",
   "execution_count": null,
   "metadata": {},
   "outputs": [],
   "source": [
    "gan_model.build()\n",
    "gan_model.train(train_data, epochs=args.n_epochs, batch=args.batch, dsteps=10, gradient_penalty=True, preview_interval=20)"
   ]
  },
  {
   "cell_type": "code",
   "execution_count": null,
   "metadata": {},
   "outputs": [],
   "source": [
    "gan_model.show_progress()"
   ]
  },
  {
   "cell_type": "code",
   "execution_count": null,
   "metadata": {},
   "outputs": [],
   "source": [
    "fig = gan_model.preview(1)"
   ]
  },
  {
   "cell_type": "code",
   "execution_count": null,
   "metadata": {},
   "outputs": [],
   "source": [
    "for index, batch_x in enumerate(train_data):\n",
    "    print('>', index, x.shape)\n",
    "    if index == 0:\n",
    "        break"
   ]
  },
  {
   "cell_type": "code",
   "execution_count": null,
   "metadata": {},
   "outputs": [],
   "source": [
    "\n",
    "batch_y = gan_model.sample().numpy()\n",
    "\n",
    "plt.hist(batch_x[0].numpy().ravel(), alpha=0.5)\n",
    "plt.hist(batch_y.ravel(), alpha=0.5)\n",
    "\n",
    "print('D_x', gan_model.discriminator(batch_x[0:1]).numpy())\n",
    "print('D_G_z', gan_model.discriminator(batch_y).numpy())\n",
    "\n",
    "# plt.imshow(batch_y.squeeze())"
   ]
  }
 ],
 "metadata": {
  "language_info": {
   "name": "python",
   "pygments_lexer": "ipython3"
  }
 },
 "nbformat": 4,
 "nbformat_minor": 4
}
